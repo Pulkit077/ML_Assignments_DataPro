{
  "nbformat": 4,
  "nbformat_minor": 0,
  "metadata": {
    "colab": {
      "provenance": [],
      "gpuType": "T4"
    },
    "kernelspec": {
      "name": "python3",
      "display_name": "Python 3"
    },
    "language_info": {
      "name": "python"
    },
    "accelerator": "GPU"
  },
  "cells": [
    {
      "cell_type": "code",
      "execution_count": 25,
      "metadata": {
        "id": "bxl1FtFfdIRC"
      },
      "outputs": [],
      "source": [
        "import numpy as np\n",
        "import pandas as pd\n",
        "from sklearn.metrics.pairwise import pairwise_distances"
      ]
    },
    {
      "cell_type": "code",
      "source": [
        "# reading DataFrame\n",
        "user_info_df = pd.read_csv('user_info.dat', sep='\\t', names=['New_ID', 'Real_ID'], skiprows=1)\n",
        "item_info_df = pd.read_csv('item_info.dat', sep='\\t', names=['Game_ID', 'Game_Name'], skiprows=1)\n",
        "game_play_df = pd.read_csv('game_play.dat', sep='\\t', names=['User_ID', 'Game_ID', 'Hours'], skiprows=1)\n",
        "game_purchase_df = pd.read_csv('game_purchase.dat', sep='\\t', names=['User_ID', 'Game_ID', 'Purchase'], skiprows=1)"
      ],
      "metadata": {
        "id": "RkrzkSpadNUT"
      },
      "execution_count": 61,
      "outputs": []
    },
    {
      "cell_type": "code",
      "source": [
        "data = pd.merge(game_play_df, game_purchase_df, on=['User_ID', 'Game_ID'], how='outer')\n",
        "data = pd.merge(data, user_info_df, left_on='User_ID', right_on='New_ID')\n",
        "data = pd.merge(data, item_info_df, on='Game_ID')"
      ],
      "metadata": {
        "id": "pXgqBLFCdYr_"
      },
      "execution_count": 99,
      "outputs": []
    },
    {
      "cell_type": "code",
      "source": [
        "# Create user-item matrix\n",
        "data_pivot = data.pivot_table(index='Real_ID', columns='Game_Name', values='Hours')\n",
        "data_matrix = data_pivot.fillna(0).values\n",
        "\n",
        "#data_pivot.to_csv('data_pivot.csv')\n",
        "#data_matrix_df = pd.DataFrame(data_matrix, index=data_pivot.index, columns=data_pivot.columns)\n",
        "#data_matrix_df.to_csv('data_matrix.csv')\n",
        "\n",
        "#n=5\n",
        "#print(data_pivot.head(n))\n",
        "#print(data_pivot.shape[1]) # Total no. of games\n",
        "#print(data_matrix[:n])\n",
        "#n_users = data_matrix.shape[0]\n",
        "#print(\"Total number of users: \", n_users)\n",
        "#n_users = data[\"Real_ID\"].nunique()\n",
        "#print(\"Total number of unique users: \", n_users)"
      ],
      "metadata": {
        "id": "1IquFQBAeCXx"
      },
      "execution_count": 116,
      "outputs": []
    },
    {
      "cell_type": "code",
      "source": [
        "# Calculate user similarity\n",
        "user_similarity = pairwise_distances(data_matrix, metric='cosine')"
      ],
      "metadata": {
        "id": "TroCOeMsdrxv"
      },
      "execution_count": 115,
      "outputs": []
    },
    {
      "cell_type": "code",
      "source": [
        "# Predict ratings\n",
        "def predict(ratings, similarity):\n",
        "    mean_user_rating = ratings.mean(axis=1)\n",
        "    ratings_diff = (ratings - mean_user_rating[:, np.newaxis])\n",
        "    pred = mean_user_rating[:, np.newaxis] + similarity.dot(ratings_diff) / np.array([np.abs(similarity).sum(axis=1)]).T\n",
        "    return pred\n",
        "\n",
        "# Make predictions\n",
        "user_prediction = predict(data_matrix, user_similarity)"
      ],
      "metadata": {
        "id": "IWEwK0slinER"
      },
      "execution_count": 117,
      "outputs": []
    },
    {
      "cell_type": "code",
      "source": [
        "# Index of the user in the data_matrix variable\n",
        "# 0 - 11349\n",
        "user_index = 11349\n",
        "\n",
        "# Get top n recommendations\n",
        "n = 5\n",
        "top_n_indices = np.argsort(user_prediction[user_index])[::-1][:n]\n",
        "top_n_games = data_pivot.columns[top_n_indices]\n",
        "\n",
        "# Print recommendations\n",
        "print(f'Top {n} recommendations for user {data_pivot.index[user_index]}:')\n",
        "for game in top_n_games:\n",
        "    print(f'- {game}')"
      ],
      "metadata": {
        "colab": {
          "base_uri": "https://localhost:8080/"
        },
        "id": "Ot4bdGd2jCNM",
        "outputId": "59089d1a-46b1-4457-b977-3096b567f60c"
      },
      "execution_count": 118,
      "outputs": [
        {
          "output_type": "stream",
          "name": "stdout",
          "text": [
            "Top 5 recommendations for user 309903146:\n",
            "- Counter-Strike Global Offensive\n",
            "- Team Fortress 2\n",
            "- Counter-Strike\n",
            "- Sid Meier's Civilization V\n",
            "- Counter-Strike Source\n"
          ]
        }
      ]
    }
  ]
}